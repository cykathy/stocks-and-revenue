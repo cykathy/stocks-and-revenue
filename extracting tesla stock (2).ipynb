{
 "cells": [
  {
   "cell_type": "markdown",
   "id": "037ffa09-f6a3-4f32-a1e6-72c429bb47e5",
   "metadata": {},
   "source": [
    "## QUESTION 2: EXTRACTING TESLA REVENUE DATA USING WEBSCRAPING"
   ]
  },
  {
   "cell_type": "code",
   "execution_count": 1,
   "id": "2677abb7-a9c8-4443-9402-40a6a5223f63",
   "metadata": {
    "tags": []
   },
   "outputs": [],
   "source": [
    "import requests\n",
    "from bs4 import BeautifulSoup\n",
    "import pandas as pd"
   ]
  },
  {
   "cell_type": "code",
   "execution_count": 2,
   "id": "51b9e518-471b-488a-8efc-af298b76b311",
   "metadata": {
    "tags": []
   },
   "outputs": [],
   "source": [
    "url = \"https://cf-courses-data.s3.us.cloud-object-storage.appdomain.cloud/IBMDeveloperSkillsNetwork-PY0220EN-SkillsNetwork/labs/project/revenue.htm\""
   ]
  },
  {
   "cell_type": "code",
   "execution_count": 3,
   "id": "f50b8f36-8ccf-4220-9d6e-0ae8410d0631",
   "metadata": {
    "tags": []
   },
   "outputs": [],
   "source": [
    "response = requests.get(url)"
   ]
  },
  {
   "cell_type": "code",
   "execution_count": 4,
   "id": "4ef5bfed-a74b-47b0-b1c5-758621e11546",
   "metadata": {
    "tags": []
   },
   "outputs": [],
   "source": [
    "soup = BeautifulSoup(response.content, 'html.parser')"
   ]
  },
  {
   "cell_type": "code",
   "execution_count": 7,
   "id": "da42dd43-a477-4989-a2d0-9a3a7c1af6f3",
   "metadata": {
    "tags": []
   },
   "outputs": [],
   "source": [
    "revenue_table = soup.find(\"table\", class_=\"historical_data_table table\")"
   ]
  },
  {
   "cell_type": "code",
   "execution_count": 8,
   "id": "a78c520d-f15a-4186-b93b-36fd90366b5b",
   "metadata": {
    "tags": []
   },
   "outputs": [],
   "source": [
    "revenue_data = []\n",
    "for row in revenue_table.find_all(\"tr\"):\n",
    "    cols = row.find_all(\"td\")\n",
    "    cols = [col.text.strip() for col in cols]\n",
    "    revenue_data.append(cols)\n"
   ]
  },
  {
   "cell_type": "code",
   "execution_count": 9,
   "id": "9ecc2ef4-3841-4eb5-87f2-2a018e882167",
   "metadata": {
    "tags": []
   },
   "outputs": [],
   "source": [
    "max_cols = max(len(row) for row in revenue_data)\n",
    "revenue_data = [row + [''] * (max_cols - len(row)) for row in revenue_data]"
   ]
  },
  {
   "cell_type": "code",
   "execution_count": 10,
   "id": "7f5fa192-c6c7-478e-860d-59b361922896",
   "metadata": {
    "tags": []
   },
   "outputs": [],
   "source": [
    "revenue_df = pd.DataFrame(revenue_data[1:], columns=revenue_data[0])"
   ]
  },
  {
   "cell_type": "code",
   "execution_count": 11,
   "id": "2819609c-372c-4e15-af1f-d0c3dc655d99",
   "metadata": {
    "tags": []
   },
   "outputs": [
    {
     "name": "stdout",
     "output_type": "stream",
     "text": [
      "                \n",
      "8   2013  $2,013\n",
      "9   2012    $413\n",
      "10  2011    $204\n",
      "11  2010    $117\n",
      "12  2009    $112\n"
     ]
    }
   ],
   "source": [
    "print(revenue_df.tail())"
   ]
  },
  {
   "cell_type": "code",
   "execution_count": null,
   "id": "8af5fdfd-7446-4cd8-9ded-431940ca6e70",
   "metadata": {},
   "outputs": [],
   "source": []
  }
 ],
 "metadata": {
  "kernelspec": {
   "display_name": "Python",
   "language": "python",
   "name": "conda-env-python-py"
  },
  "language_info": {
   "codemirror_mode": {
    "name": "ipython",
    "version": 3
   },
   "file_extension": ".py",
   "mimetype": "text/x-python",
   "name": "python",
   "nbconvert_exporter": "python",
   "pygments_lexer": "ipython3",
   "version": "3.7.12"
  }
 },
 "nbformat": 4,
 "nbformat_minor": 5
}
